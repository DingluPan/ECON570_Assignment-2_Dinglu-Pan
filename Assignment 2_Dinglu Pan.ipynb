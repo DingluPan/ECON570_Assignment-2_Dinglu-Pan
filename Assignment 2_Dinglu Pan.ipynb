{
 "cells": [
  {
   "cell_type": "markdown",
   "id": "1ff946fb",
   "metadata": {},
   "source": [
    "# Assignment 2\n",
    "\n",
    "**Name:** Dinglu Pan  \n",
    "**Email:** dinglupa@usc.edu  \n",
    "**USC ID:** 6564-8915-51  \n",
    "**Setting Picked:** 1, 2, and 3"
   ]
  },
  {
   "cell_type": "code",
   "execution_count": 969,
   "id": "5ae7d08d",
   "metadata": {},
   "outputs": [],
   "source": [
    "def fn_generate_cov(dim):\n",
    "    acc  = []\n",
    "    for i in range(dim):\n",
    "        row = np.ones((1,dim)) * corr\n",
    "        row[0][i] = 1\n",
    "        acc.append(row)\n",
    "    return np.concatenate(acc,axis=0)\n",
    "\n",
    "def fn_generate_multnorm(nobs,corr,nvar):\n",
    "\n",
    "    mu = np.zeros(nvar)\n",
    "    std = (np.abs(np.random.normal(loc = 1, scale = .5,size = (nvar,1))))**(1/2)\n",
    "    # generate random normal distribution\n",
    "    acc = []\n",
    "    for i in range(nvar):\n",
    "        acc.append(np.reshape(np.random.normal(mu[i],std[i],nobs),(nobs,-1)))\n",
    "    \n",
    "    normvars = np.concatenate(acc,axis=1)\n",
    "\n",
    "    cov = fn_generate_cov(nvar)\n",
    "    C = np.linalg.cholesky(cov)\n",
    "\n",
    "    Y = np.transpose(np.dot(C,np.transpose(normvars)))\n",
    "\n",
    "    #return (Y,np.round(np.corrcoef(Y,rowvar=False),2))\n",
    "    return Y\n",
    "\n",
    "def fn_randomize_treatment(N,p=0.5):\n",
    "    treated = random.sample(range(N), round(N*p))\n",
    "    return np.array([(1 if i in treated else 0) for i in range(N)]).reshape([N,1])\n"
   ]
  },
  {
   "cell_type": "code",
   "execution_count": 970,
   "id": "227848d6",
   "metadata": {},
   "outputs": [],
   "source": [
    "import warnings\n",
    "warnings.filterwarnings('ignore')\n",
    "\n",
    "import pandas as pd\n",
    "import numpy as np\n",
    "import random\n",
    "from scipy import stats\n",
    "import statsmodels.api as sm\n",
    "import statsmodels.formula.api as smf\n",
    "from sklearn.model_selection import cross_val_score\n",
    "from sklearn.model_selection import RepeatedKFold\n",
    "from sklearn.linear_model import Lasso\n",
    "from sklearn.feature_selection import SelectFromModel\n",
    "from tqdm import tqdm\n",
    "import seaborn as sns\n",
    "import matplotlib.pyplot as plt\n",
    "from matplotlib import style\n",
    "import graphviz as gr\n",
    "random.seed(10)\n",
    "\n",
    "style.use(\"fivethirtyeight\")"
   ]
  },
  {
   "cell_type": "markdown",
   "id": "a964f59c",
   "metadata": {},
   "source": [
    "### Modified the fn_generate_data() "
   ]
  },
  {
   "cell_type": "code",
   "execution_count": 971,
   "id": "a92bb295",
   "metadata": {},
   "outputs": [],
   "source": [
    "def fn_generate_data(tau,N,p,p0,corr,conf = True,flagX = False):\n",
    "\n",
    "    nvar = p+2 # 1 confounder and variable for randomizing treatment\n",
    "\n",
    "    if conf==False:\n",
    "        conf_mult = 0 \n",
    "    else:\n",
    "        conf_mult = 1 \n",
    "        \n",
    "    allX = fn_generate_multnorm(N,corr,nvar)\n",
    "    W0 = allX[:,0].reshape([N,1]) # variable for RDD assignment\n",
    "    C = allX[:,1].reshape([N,1]) # confounder\n",
    "    X = allX[:,2:] # observed covariates contained in DGP Y\n",
    "    \n",
    "    T = fn_randomize_treatment(N) # choose treated units\n",
    "    err = np.random.normal(0,1,[N,1])\n",
    "    beta0 = np.random.normal(5,5,[p,1])\n",
    "    \n",
    "    beta0[p0:p] = 0 # sparse model\n",
    "    Yab = tau*T+X@beta0+conf_mult*100*C+err  \n",
    "    \n",
    "    if flagX==False and conf==True:     \n",
    "        return (Yab,T,C)\n",
    "    elif flagX==False and conf==False:\n",
    "        return (Yab,T)\n",
    "    elif flagX==True and conf==True:\n",
    "        return (Yab,T,C,X[:, :p0])\n",
    "#    elif flagX==True & conf==False:\n",
    "#         return (Yab,T,X[:,:p0])\n",
    "    else:                \n",
    "        return (Yab,T,X[:,:p0])"
   ]
  },
  {
   "cell_type": "markdown",
   "id": "33d5ff50",
   "metadata": {},
   "source": [
    "# 1. Setting 1: Covariates"
   ]
  },
  {
   "cell_type": "markdown",
   "id": "55a85a70",
   "metadata": {},
   "source": [
    "## 1) DGP\n",
    "\n",
    "##### Simulate a DGP where the outcome depends on a randomly assigned treatment and some observed covariates\n",
    "\n",
    "$Y_i = \\tau*T_i+\\beta'*X_i+e_i$"
   ]
  },
  {
   "cell_type": "code",
   "execution_count": 972,
   "id": "dc7dd940",
   "metadata": {},
   "outputs": [],
   "source": [
    "# parameters settings\n",
    "tau = 6  # true treatment effect\n",
    "N = 1000  # sample size\n",
    "p = 10  # number of covariates generated\n",
    "p0 = 3  # number of covariates used in DGP Y\n",
    "corr = .5  # correlation between covariates\n",
    "conf = False  # set no confounder\n",
    "flagX = True  # set to return X"
   ]
  },
  {
   "cell_type": "code",
   "execution_count": 973,
   "id": "6061ded8",
   "metadata": {},
   "outputs": [],
   "source": [
    "# DGP\n",
    "data_1 = fn_generate_data(tau,N,p,p0,corr,conf,flagX)\n",
    "a = pd.DataFrame(data_1[0])\n",
    "b = pd.DataFrame(data_1[1])\n",
    "c = pd.DataFrame(data_1[2])\n",
    "data_1 = pd.concat([a,b,c],axis=1)\n",
    "data_1.columns = ['Y','T','X1','X2','X3']\n",
    "data_1.to_csv('data_1.csv')"
   ]
  },
  {
   "cell_type": "code",
   "execution_count": 974,
   "id": "76762fff",
   "metadata": {},
   "outputs": [
    {
     "data": {
      "text/html": [
       "<div>\n",
       "<style scoped>\n",
       "    .dataframe tbody tr th:only-of-type {\n",
       "        vertical-align: middle;\n",
       "    }\n",
       "\n",
       "    .dataframe tbody tr th {\n",
       "        vertical-align: top;\n",
       "    }\n",
       "\n",
       "    .dataframe thead th {\n",
       "        text-align: right;\n",
       "    }\n",
       "</style>\n",
       "<table border=\"1\" class=\"dataframe\">\n",
       "  <thead>\n",
       "    <tr style=\"text-align: right;\">\n",
       "      <th></th>\n",
       "      <th>Y</th>\n",
       "      <th>T</th>\n",
       "      <th>X1</th>\n",
       "      <th>X2</th>\n",
       "      <th>X3</th>\n",
       "    </tr>\n",
       "  </thead>\n",
       "  <tbody>\n",
       "    <tr>\n",
       "      <th>0</th>\n",
       "      <td>-0.300295</td>\n",
       "      <td>0</td>\n",
       "      <td>0.338467</td>\n",
       "      <td>-0.074183</td>\n",
       "      <td>-0.091083</td>\n",
       "    </tr>\n",
       "    <tr>\n",
       "      <th>1</th>\n",
       "      <td>-2.330224</td>\n",
       "      <td>0</td>\n",
       "      <td>0.624934</td>\n",
       "      <td>-0.140454</td>\n",
       "      <td>-0.719742</td>\n",
       "    </tr>\n",
       "    <tr>\n",
       "      <th>2</th>\n",
       "      <td>37.184564</td>\n",
       "      <td>1</td>\n",
       "      <td>1.192307</td>\n",
       "      <td>2.052454</td>\n",
       "      <td>1.254532</td>\n",
       "    </tr>\n",
       "    <tr>\n",
       "      <th>3</th>\n",
       "      <td>-13.010052</td>\n",
       "      <td>0</td>\n",
       "      <td>-0.503960</td>\n",
       "      <td>-0.575186</td>\n",
       "      <td>-1.224354</td>\n",
       "    </tr>\n",
       "    <tr>\n",
       "      <th>4</th>\n",
       "      <td>12.515508</td>\n",
       "      <td>1</td>\n",
       "      <td>0.451983</td>\n",
       "      <td>0.696038</td>\n",
       "      <td>-0.400969</td>\n",
       "    </tr>\n",
       "    <tr>\n",
       "      <th>...</th>\n",
       "      <td>...</td>\n",
       "      <td>...</td>\n",
       "      <td>...</td>\n",
       "      <td>...</td>\n",
       "      <td>...</td>\n",
       "    </tr>\n",
       "    <tr>\n",
       "      <th>995</th>\n",
       "      <td>7.495350</td>\n",
       "      <td>1</td>\n",
       "      <td>1.597378</td>\n",
       "      <td>0.096760</td>\n",
       "      <td>-0.593935</td>\n",
       "    </tr>\n",
       "    <tr>\n",
       "      <th>996</th>\n",
       "      <td>-24.380815</td>\n",
       "      <td>1</td>\n",
       "      <td>-1.505287</td>\n",
       "      <td>-2.239106</td>\n",
       "      <td>-0.696565</td>\n",
       "    </tr>\n",
       "    <tr>\n",
       "      <th>997</th>\n",
       "      <td>9.763822</td>\n",
       "      <td>1</td>\n",
       "      <td>-0.184693</td>\n",
       "      <td>0.244398</td>\n",
       "      <td>-0.129824</td>\n",
       "    </tr>\n",
       "    <tr>\n",
       "      <th>998</th>\n",
       "      <td>8.750571</td>\n",
       "      <td>1</td>\n",
       "      <td>0.716575</td>\n",
       "      <td>-0.116522</td>\n",
       "      <td>0.669510</td>\n",
       "    </tr>\n",
       "    <tr>\n",
       "      <th>999</th>\n",
       "      <td>24.426208</td>\n",
       "      <td>1</td>\n",
       "      <td>-0.270961</td>\n",
       "      <td>1.049234</td>\n",
       "      <td>1.711871</td>\n",
       "    </tr>\n",
       "  </tbody>\n",
       "</table>\n",
       "<p>1000 rows × 5 columns</p>\n",
       "</div>"
      ],
      "text/plain": [
       "             Y  T        X1        X2        X3\n",
       "0    -0.300295  0  0.338467 -0.074183 -0.091083\n",
       "1    -2.330224  0  0.624934 -0.140454 -0.719742\n",
       "2    37.184564  1  1.192307  2.052454  1.254532\n",
       "3   -13.010052  0 -0.503960 -0.575186 -1.224354\n",
       "4    12.515508  1  0.451983  0.696038 -0.400969\n",
       "..         ... ..       ...       ...       ...\n",
       "995   7.495350  1  1.597378  0.096760 -0.593935\n",
       "996 -24.380815  1 -1.505287 -2.239106 -0.696565\n",
       "997   9.763822  1 -0.184693  0.244398 -0.129824\n",
       "998   8.750571  1  0.716575 -0.116522  0.669510\n",
       "999  24.426208  1 -0.270961  1.049234  1.711871\n",
       "\n",
       "[1000 rows x 5 columns]"
      ]
     },
     "execution_count": 974,
     "metadata": {},
     "output_type": "execute_result"
    }
   ],
   "source": [
    "data_1\n"
   ]
  },
  {
   "cell_type": "markdown",
   "id": "7acf8bd0",
   "metadata": {},
   "source": [
    "## 2) DAG"
   ]
  },
  {
   "cell_type": "code",
   "execution_count": 975,
   "id": "984971e3",
   "metadata": {},
   "outputs": [
    {
     "data": {
      "image/svg+xml": [
       "<?xml version=\"1.0\" encoding=\"UTF-8\" standalone=\"no\"?>\n",
       "<!DOCTYPE svg PUBLIC \"-//W3C//DTD SVG 1.1//EN\"\n",
       " \"http://www.w3.org/Graphics/SVG/1.1/DTD/svg11.dtd\">\n",
       "<!-- Generated by graphviz version 2.50.0 (20211204.2007)\n",
       " -->\n",
       "<!-- Pages: 1 -->\n",
       "<svg width=\"278pt\" height=\"116pt\"\n",
       " viewBox=\"0.00 0.00 278.00 116.00\" xmlns=\"http://www.w3.org/2000/svg\" xmlns:xlink=\"http://www.w3.org/1999/xlink\">\n",
       "<g id=\"graph0\" class=\"graph\" transform=\"scale(1 1) rotate(0) translate(4 112)\">\n",
       "<polygon fill=\"white\" stroke=\"transparent\" points=\"-4,4 -4,-112 274,-112 274,4 -4,4\"/>\n",
       "<!-- T -->\n",
       "<g id=\"node1\" class=\"node\">\n",
       "<title>T</title>\n",
       "<ellipse fill=\"none\" stroke=\"black\" cx=\"27\" cy=\"-90\" rx=\"27\" ry=\"18\"/>\n",
       "<text text-anchor=\"middle\" x=\"27\" y=\"-86.3\" font-family=\"Times,serif\" font-size=\"14.00\">T</text>\n",
       "</g>\n",
       "<!-- Y -->\n",
       "<g id=\"node2\" class=\"node\">\n",
       "<title>Y</title>\n",
       "<ellipse fill=\"none\" stroke=\"black\" cx=\"135\" cy=\"-18\" rx=\"27\" ry=\"18\"/>\n",
       "<text text-anchor=\"middle\" x=\"135\" y=\"-14.3\" font-family=\"Times,serif\" font-size=\"14.00\">Y</text>\n",
       "</g>\n",
       "<!-- T&#45;&gt;Y -->\n",
       "<g id=\"edge1\" class=\"edge\">\n",
       "<title>T&#45;&gt;Y</title>\n",
       "<path fill=\"none\" stroke=\"green\" d=\"M45.81,-76.81C63,-65.67 88.62,-49.06 107.99,-36.5\"/>\n",
       "<polygon fill=\"green\" stroke=\"green\" points=\"109.92,-39.43 116.4,-31.05 106.11,-33.56 109.92,-39.43\"/>\n",
       "</g>\n",
       "<!-- X1 -->\n",
       "<g id=\"node3\" class=\"node\">\n",
       "<title>X1</title>\n",
       "<ellipse fill=\"none\" stroke=\"black\" cx=\"99\" cy=\"-90\" rx=\"27\" ry=\"18\"/>\n",
       "<text text-anchor=\"middle\" x=\"99\" y=\"-86.3\" font-family=\"Times,serif\" font-size=\"14.00\">X1</text>\n",
       "</g>\n",
       "<!-- X1&#45;&gt;Y -->\n",
       "<g id=\"edge2\" class=\"edge\">\n",
       "<title>X1&#45;&gt;Y</title>\n",
       "<path fill=\"none\" stroke=\"black\" d=\"M107.35,-72.76C111.71,-64.28 117.15,-53.71 122.04,-44.2\"/>\n",
       "<polygon fill=\"black\" stroke=\"black\" points=\"125.23,-45.64 126.7,-35.15 119.01,-42.44 125.23,-45.64\"/>\n",
       "</g>\n",
       "<!-- X2 -->\n",
       "<g id=\"node4\" class=\"node\">\n",
       "<title>X2</title>\n",
       "<ellipse fill=\"none\" stroke=\"black\" cx=\"171\" cy=\"-90\" rx=\"27\" ry=\"18\"/>\n",
       "<text text-anchor=\"middle\" x=\"171\" y=\"-86.3\" font-family=\"Times,serif\" font-size=\"14.00\">X2</text>\n",
       "</g>\n",
       "<!-- X2&#45;&gt;Y -->\n",
       "<g id=\"edge3\" class=\"edge\">\n",
       "<title>X2&#45;&gt;Y</title>\n",
       "<path fill=\"none\" stroke=\"black\" d=\"M162.65,-72.76C158.29,-64.28 152.85,-53.71 147.96,-44.2\"/>\n",
       "<polygon fill=\"black\" stroke=\"black\" points=\"150.99,-42.44 143.3,-35.15 144.77,-45.64 150.99,-42.44\"/>\n",
       "</g>\n",
       "<!-- X3 -->\n",
       "<g id=\"node5\" class=\"node\">\n",
       "<title>X3</title>\n",
       "<ellipse fill=\"none\" stroke=\"black\" cx=\"243\" cy=\"-90\" rx=\"27\" ry=\"18\"/>\n",
       "<text text-anchor=\"middle\" x=\"243\" y=\"-86.3\" font-family=\"Times,serif\" font-size=\"14.00\">X3</text>\n",
       "</g>\n",
       "<!-- X3&#45;&gt;Y -->\n",
       "<g id=\"edge4\" class=\"edge\">\n",
       "<title>X3&#45;&gt;Y</title>\n",
       "<path fill=\"none\" stroke=\"black\" d=\"M224.19,-76.81C207,-65.67 181.38,-49.06 162.01,-36.5\"/>\n",
       "<polygon fill=\"black\" stroke=\"black\" points=\"163.89,-33.56 153.6,-31.05 160.08,-39.43 163.89,-33.56\"/>\n",
       "</g>\n",
       "</g>\n",
       "</svg>\n"
      ],
      "text/plain": [
       "<graphviz.graphs.Digraph at 0x7f7c98f15a60>"
      ]
     },
     "execution_count": 975,
     "metadata": {},
     "output_type": "execute_result"
    }
   ],
   "source": [
    "g = gr.Digraph()\n",
    "# g.node(\"T\", color=\"gold\")\n",
    "# g.node(\"Y\", color=\"gold\")\n",
    "g.edge(\"T\", \"Y\", color = 'green')\n",
    "g.edge(\"X1\", \"Y\")\n",
    "g.edge(\"X2\", \"Y\")\n",
    "g.edge(\"X3\", \"Y\")\n",
    "g"
   ]
  },
  {
   "cell_type": "markdown",
   "id": "586c0fe1",
   "metadata": {},
   "source": [
    "## 3) Monte-Carlo experiment"
   ]
  },
  {
   "cell_type": "markdown",
   "id": "ef78f1af",
   "metadata": {},
   "source": [
    "### Parameters settings"
   ]
  },
  {
   "cell_type": "code",
   "execution_count": 976,
   "id": "28d9501e",
   "metadata": {},
   "outputs": [],
   "source": [
    "tau = 6  # true treatment effect\n",
    "p = 10  # number of covariates generated\n",
    "p0 = 3  # number of covariates used in DGP Y\n",
    "corr = .5  # correlation between covariates\n",
    "conf = False  # no confounder\n",
    "flagX = True # Also return X in DGP"
   ]
  },
  {
   "cell_type": "markdown",
   "id": "e7850ff0",
   "metadata": {},
   "source": [
    "First running 2 simple OLS regression under 'a' & 'b' conditions "
   ]
  },
  {
   "cell_type": "code",
   "execution_count": 977,
   "id": "93d0040c",
   "metadata": {},
   "outputs": [
    {
     "name": "stdout",
     "output_type": "stream",
     "text": [
      "Reg under condition \"a\": x1 is the treatment(i.e. T) \n",
      " ==============================================================================\n",
      "                 coef    std err          t      P>|t|      [0.025      0.975]\n",
      "------------------------------------------------------------------------------\n",
      "x1             9.9298      7.374      1.347      0.181      -4.704      24.564\n",
      "const         -5.3301      5.215     -1.022      0.309     -15.678       5.018\n",
      "============================================================================== \n",
      "\n",
      "Reg under condition \"b\": x1 is the treatment(i.e. T) \n",
      " ==============================================================================\n",
      "                 coef    std err          t      P>|t|      [0.025      0.975]\n",
      "------------------------------------------------------------------------------\n",
      "x1             5.9238      0.193     30.625      0.000       5.540       6.308\n",
      "x2            10.1672      0.130     78.049      0.000       9.909      10.426\n",
      "x3            15.1898      0.127    119.548      0.000      14.938      15.442\n",
      "x4            15.1576      0.184     82.415      0.000      14.792      15.523\n",
      "const         -0.0135      0.138     -0.098      0.922      -0.288       0.261\n",
      "==============================================================================\n"
     ]
    }
   ],
   "source": [
    "N = 100\n",
    "const = np.ones([N, 1])\n",
    "Yexp,T,X = fn_generate_data(tau,N,p,p0,corr,conf,flagX)\n",
    "\n",
    "model_a = sm.OLS(Yexp,np.concatenate([T,const],axis = 1))  # under 'a' condition: not control for any covariates\n",
    "reg_a = model_a.fit()\n",
    "\n",
    "model_b = sm.OLS(Yexp,np.concatenate([T,X,const],axis = 1)) # under 'b' condition: control for all covariates\n",
    "reg_b = model_b.fit()\n",
    "\n",
    "print('Reg under condition \"a\": x1 is the treatment(i.e. T)','\\n',reg_a.summary().tables[1],'\\n')\n",
    "print('Reg under condition \"b\": x1 is the treatment(i.e. T)','\\n',reg_b.summary().tables[1])"
   ]
  },
  {
   "cell_type": "markdown",
   "id": "ed184329",
   "metadata": {},
   "source": [
    "We can see that after controlling for all covariates, estimated treatment effect is closer to its true value and with higher statistic significance"
   ]
  },
  {
   "cell_type": "markdown",
   "id": "d003ae57",
   "metadata": {},
   "source": [
    "### a. Not control for any covariates"
   ]
  },
  {
   "cell_type": "code",
   "execution_count": 978,
   "id": "6959fba8",
   "metadata": {},
   "outputs": [
    {
     "name": "stderr",
     "output_type": "stream",
     "text": [
      "100%|██████████████████████████████████████| 2000/2000 [00:02<00:00, 918.12it/s]\n",
      "100%|██████████████████████████████████████| 2000/2000 [00:15<00:00, 129.88it/s]\n"
     ]
    }
   ],
   "source": [
    "# using the same parameters\n",
    "estDict = {}  \n",
    "R = 2000  # iteration times for each sample size\n",
    "\n",
    "for N in [100, 1000]: \n",
    "    tauhats = []\n",
    "    sehats = []\n",
    "    const = np.ones([N, 1])\n",
    "    for r in tqdm(range(R)): \n",
    "        Yexp,T,X = fn_generate_data(tau,N,p,p0,corr,conf,flagX)\n",
    "        model = sm.OLS(Yexp,np.concatenate([T,const],axis = 1))  # not controlling for any covariates\n",
    "        reg = model.fit()\n",
    "        tauhat = reg.params[0]\n",
    "        se_tauhat = reg.HC1_se[0]\n",
    "        tauhats = tauhats + [tauhat]\n",
    "        sehats = sehats + [se_tauhat]\n",
    "    estDict[N] = {\n",
    "        'tauhat':np.array(tauhats).reshape([len(tauhats),1]),\n",
    "        'sehat':np.array(sehats).reshape([len(sehats),1])\n",
    "    }"
   ]
  },
  {
   "cell_type": "code",
   "execution_count": 979,
   "id": "6026f6e1",
   "metadata": {},
   "outputs": [
    {
     "name": "stdout",
     "output_type": "stream",
     "text": [
      "N=100: bias=0.025278995682365378, RMSE=3.013159580431697, size=0.057\n",
      "N=1000: bias=0.021407864984808612, RMSE=0.9123660714419797, size=0.0455\n"
     ]
    }
   ],
   "source": [
    "tau0 = tau*np.ones([R,1])\n",
    "for N, results in estDict.items():\n",
    "    (bias,rmse,size) = fn_bias_rmse_size(tau0,results['tauhat'],\n",
    "                                         results['sehat'])\n",
    "    print(f'N={N}: bias={bias}, RMSE={rmse}, size={size}')"
   ]
  },
  {
   "cell_type": "markdown",
   "id": "0eba37e2",
   "metadata": {},
   "source": [
    "### b. Control for all the covariates that affect the outcome"
   ]
  },
  {
   "cell_type": "code",
   "execution_count": 980,
   "id": "0891d82b",
   "metadata": {},
   "outputs": [
    {
     "name": "stderr",
     "output_type": "stream",
     "text": [
      "100%|██████████████████████████████████████| 2000/2000 [00:02<00:00, 867.05it/s]\n",
      "100%|██████████████████████████████████████| 2000/2000 [00:15<00:00, 131.56it/s]\n"
     ]
    }
   ],
   "source": [
    "# using the same parameters\n",
    "estDict = {}  \n",
    "R = 2000  \n",
    "\n",
    "for N in [100, 1000]:\n",
    "    tauhats = []\n",
    "    sehats = []\n",
    "    const = np.ones([N, 1])\n",
    "    for r in tqdm(range(R)):  \n",
    "        Yexp,T,X = fn_generate_data(tau,N,p,p0,corr,conf,flagX)\n",
    "        model = sm.OLS(Yexp,np.concatenate([T,X,const],axis = 1))  # controlling for all covariates\n",
    "        reg = model.fit()\n",
    "        tauhat = reg.params[0]\n",
    "        se_tauhat = reg.HC1_se[0]\n",
    "        tauhats = tauhats + [tauhat]\n",
    "        sehats = sehats + [se_tauhat]\n",
    "    estDict[N] = {\n",
    "        'tauhat':np.array(tauhats).reshape([len(tauhats),1]),\n",
    "        'sehat':np.array(sehats).reshape([len(sehats),1])\n",
    "    }"
   ]
  },
  {
   "cell_type": "code",
   "execution_count": 981,
   "id": "8a409848",
   "metadata": {},
   "outputs": [
    {
     "name": "stdout",
     "output_type": "stream",
     "text": [
      "N=100: bias=-0.0035249623379548624, RMSE=0.19629495727456284, size=0.052\n",
      "N=1000: bias=0.0005360280854421515, RMSE=0.06454794666147642, size=0.0565\n"
     ]
    }
   ],
   "source": [
    "tau0 = tau*np.ones([R,1])\n",
    "for N, results in estDict.items():\n",
    "    (bias,rmse,size) = fn_bias_rmse_size(tau0,results['tauhat'],\n",
    "                                         results['sehat'])\n",
    "    print(f'N={N}: bias={bias}, RMSE={rmse}, size={size}')"
   ]
  },
  {
   "cell_type": "markdown",
   "id": "6f012ef7",
   "metadata": {},
   "source": [
    "**Compareing the one without controlling for the covariates (a.), the RMSE is much smaller when we condition on those 3 covariates and with higher statistic significance (b.)**"
   ]
  },
  {
   "cell_type": "markdown",
   "id": "f0edd546",
   "metadata": {},
   "source": [
    "## 4) Real-life situation example"
   ]
  },
  {
   "cell_type": "markdown",
   "id": "78edeb68",
   "metadata": {},
   "source": [
    "Suppose the outcome is **wage**, the treatment is **gender**, we want to learn the effect of gender on wage. There are three observed covariates that affect the outcome but can be assumed to not related to the treatment: **age, GDP** and **marital status**. "
   ]
  },
  {
   "cell_type": "code",
   "execution_count": 983,
   "id": "2d1d3569",
   "metadata": {},
   "outputs": [
    {
     "data": {
      "image/svg+xml": [
       "<?xml version=\"1.0\" encoding=\"UTF-8\" standalone=\"no\"?>\n",
       "<!DOCTYPE svg PUBLIC \"-//W3C//DTD SVG 1.1//EN\"\n",
       " \"http://www.w3.org/Graphics/SVG/1.1/DTD/svg11.dtd\">\n",
       "<!-- Generated by graphviz version 2.50.0 (20211204.2007)\n",
       " -->\n",
       "<!-- Pages: 1 -->\n",
       "<svg width=\"320pt\" height=\"116pt\"\n",
       " viewBox=\"0.00 0.00 320.44 116.00\" xmlns=\"http://www.w3.org/2000/svg\" xmlns:xlink=\"http://www.w3.org/1999/xlink\">\n",
       "<g id=\"graph0\" class=\"graph\" transform=\"scale(1 1) rotate(0) translate(4 112)\">\n",
       "<polygon fill=\"white\" stroke=\"transparent\" points=\"-4,4 -4,-112 316.44,-112 316.44,4 -4,4\"/>\n",
       "<!-- Gender -->\n",
       "<g id=\"node1\" class=\"node\">\n",
       "<title>Gender</title>\n",
       "<ellipse fill=\"none\" stroke=\"black\" cx=\"36.4\" cy=\"-90\" rx=\"36.29\" ry=\"18\"/>\n",
       "<text text-anchor=\"middle\" x=\"36.4\" y=\"-86.3\" font-family=\"Times,serif\" font-size=\"14.00\">Gender</text>\n",
       "</g>\n",
       "<!-- Wage -->\n",
       "<g id=\"node2\" class=\"node\">\n",
       "<title>Wage</title>\n",
       "<ellipse fill=\"none\" stroke=\"black\" cx=\"154.4\" cy=\"-18\" rx=\"30.59\" ry=\"18\"/>\n",
       "<text text-anchor=\"middle\" x=\"154.4\" y=\"-14.3\" font-family=\"Times,serif\" font-size=\"14.00\">Wage</text>\n",
       "</g>\n",
       "<!-- Gender&#45;&gt;Wage -->\n",
       "<g id=\"edge1\" class=\"edge\">\n",
       "<title>Gender&#45;&gt;Wage</title>\n",
       "<path fill=\"none\" stroke=\"green\" d=\"M58.87,-75.67C77.63,-64.54 104.5,-48.6 124.97,-36.46\"/>\n",
       "<polygon fill=\"green\" stroke=\"green\" points=\"126.78,-39.46 133.59,-31.34 123.2,-33.43 126.78,-39.46\"/>\n",
       "</g>\n",
       "<!-- Age -->\n",
       "<g id=\"node3\" class=\"node\">\n",
       "<title>Age</title>\n",
       "<ellipse fill=\"none\" stroke=\"black\" cx=\"117.4\" cy=\"-90\" rx=\"27\" ry=\"18\"/>\n",
       "<text text-anchor=\"middle\" x=\"117.4\" y=\"-86.3\" font-family=\"Times,serif\" font-size=\"14.00\">Age</text>\n",
       "</g>\n",
       "<!-- Age&#45;&gt;Wage -->\n",
       "<g id=\"edge2\" class=\"edge\">\n",
       "<title>Age&#45;&gt;Wage</title>\n",
       "<path fill=\"none\" stroke=\"black\" d=\"M125.98,-72.76C130.4,-64.4 135.89,-54.02 140.86,-44.61\"/>\n",
       "<polygon fill=\"black\" stroke=\"black\" points=\"144.03,-46.11 145.6,-35.63 137.84,-42.84 144.03,-46.11\"/>\n",
       "</g>\n",
       "<!-- GDP -->\n",
       "<g id=\"node4\" class=\"node\">\n",
       "<title>GDP</title>\n",
       "<ellipse fill=\"none\" stroke=\"black\" cx=\"191.4\" cy=\"-90\" rx=\"28.7\" ry=\"18\"/>\n",
       "<text text-anchor=\"middle\" x=\"191.4\" y=\"-86.3\" font-family=\"Times,serif\" font-size=\"14.00\">GDP</text>\n",
       "</g>\n",
       "<!-- GDP&#45;&gt;Wage -->\n",
       "<g id=\"edge3\" class=\"edge\">\n",
       "<title>GDP&#45;&gt;Wage</title>\n",
       "<path fill=\"none\" stroke=\"black\" d=\"M182.82,-72.76C178.4,-64.4 172.91,-54.02 167.93,-44.61\"/>\n",
       "<polygon fill=\"black\" stroke=\"black\" points=\"170.96,-42.84 163.19,-35.63 164.77,-46.11 170.96,-42.84\"/>\n",
       "</g>\n",
       "<!-- Marital -->\n",
       "<g id=\"node5\" class=\"node\">\n",
       "<title>Marital</title>\n",
       "<ellipse fill=\"none\" stroke=\"black\" cx=\"275.4\" cy=\"-90\" rx=\"37.09\" ry=\"18\"/>\n",
       "<text text-anchor=\"middle\" x=\"275.4\" y=\"-86.3\" font-family=\"Times,serif\" font-size=\"14.00\">Marital</text>\n",
       "</g>\n",
       "<!-- Marital&#45;&gt;Wage -->\n",
       "<g id=\"edge4\" class=\"edge\">\n",
       "<title>Marital&#45;&gt;Wage</title>\n",
       "<path fill=\"none\" stroke=\"black\" d=\"M252.35,-75.67C233,-64.47 205.22,-48.4 184.18,-36.23\"/>\n",
       "<polygon fill=\"black\" stroke=\"black\" points=\"185.74,-33.09 175.33,-31.11 182.24,-39.15 185.74,-33.09\"/>\n",
       "</g>\n",
       "</g>\n",
       "</svg>\n"
      ],
      "text/plain": [
       "<graphviz.graphs.Digraph at 0x7f7c98f01d30>"
      ]
     },
     "execution_count": 983,
     "metadata": {},
     "output_type": "execute_result"
    }
   ],
   "source": [
    "g = gr.Digraph()\n",
    "g.edge(\"Gender\", \"Wage\", color = 'green')\n",
    "g.edge(\"Age\", \"Wage\")\n",
    "g.edge(\"GDP\", \"Wage\")\n",
    "g.edge(\"Marital\", \"Wage\")\n",
    "g"
   ]
  },
  {
   "cell_type": "markdown",
   "id": "696d5c54",
   "metadata": {},
   "source": [
    "# 2. Setting 2: Confounder"
   ]
  },
  {
   "cell_type": "markdown",
   "id": "97fbe43f",
   "metadata": {},
   "source": [
    "## 1) DGP\n",
    "\n",
    "##### Simulate a DGP with a confounder"
   ]
  },
  {
   "cell_type": "markdown",
   "id": "7d021f07",
   "metadata": {},
   "source": [
    "$Y_i = \\tau*T_i+100*C+e_i$"
   ]
  },
  {
   "cell_type": "code",
   "execution_count": 238,
   "id": "0e3496e1",
   "metadata": {},
   "outputs": [],
   "source": [
    "# parameters settings\n",
    "tau = 3  # true treatment effect\n",
    "N = 2000  # sample size\n",
    "p = 10  # number of covariates generated\n",
    "p0 = 0  # number of covariates used in DGP Y\n",
    "corr = .5  # correlation between covariates\n",
    "conf = True  # set a confounder\n",
    "flagX = False "
   ]
  },
  {
   "cell_type": "code",
   "execution_count": 239,
   "id": "26b6fee7",
   "metadata": {},
   "outputs": [],
   "source": [
    "# DGP\n",
    "data_2 = fn_generate_data(tau,N,p,p0,corr,conf,flagX)\n",
    "a = pd.DataFrame(data_2[0])\n",
    "b = pd.DataFrame(data_2[1])\n",
    "c = pd.DataFrame(data_2[2])\n",
    "data_2 = pd.concat([a,b,c],axis=1)\n",
    "data_2.columns = ['Y','T','Confounder']\n",
    "data_2.to_csv('data_2.csv')"
   ]
  },
  {
   "cell_type": "code",
   "execution_count": 240,
   "id": "e1d8584f",
   "metadata": {},
   "outputs": [
    {
     "data": {
      "text/html": [
       "<div>\n",
       "<style scoped>\n",
       "    .dataframe tbody tr th:only-of-type {\n",
       "        vertical-align: middle;\n",
       "    }\n",
       "\n",
       "    .dataframe tbody tr th {\n",
       "        vertical-align: top;\n",
       "    }\n",
       "\n",
       "    .dataframe thead th {\n",
       "        text-align: right;\n",
       "    }\n",
       "</style>\n",
       "<table border=\"1\" class=\"dataframe\">\n",
       "  <thead>\n",
       "    <tr style=\"text-align: right;\">\n",
       "      <th></th>\n",
       "      <th>Y</th>\n",
       "      <th>T</th>\n",
       "      <th>Confounder</th>\n",
       "    </tr>\n",
       "  </thead>\n",
       "  <tbody>\n",
       "    <tr>\n",
       "      <th>0</th>\n",
       "      <td>-80.629721</td>\n",
       "      <td>0</td>\n",
       "      <td>-0.802834</td>\n",
       "    </tr>\n",
       "    <tr>\n",
       "      <th>1</th>\n",
       "      <td>-88.321390</td>\n",
       "      <td>0</td>\n",
       "      <td>-0.885822</td>\n",
       "    </tr>\n",
       "    <tr>\n",
       "      <th>2</th>\n",
       "      <td>117.872907</td>\n",
       "      <td>0</td>\n",
       "      <td>1.176000</td>\n",
       "    </tr>\n",
       "    <tr>\n",
       "      <th>3</th>\n",
       "      <td>-29.007586</td>\n",
       "      <td>1</td>\n",
       "      <td>-0.304892</td>\n",
       "    </tr>\n",
       "    <tr>\n",
       "      <th>4</th>\n",
       "      <td>-59.413026</td>\n",
       "      <td>1</td>\n",
       "      <td>-0.621633</td>\n",
       "    </tr>\n",
       "    <tr>\n",
       "      <th>...</th>\n",
       "      <td>...</td>\n",
       "      <td>...</td>\n",
       "      <td>...</td>\n",
       "    </tr>\n",
       "    <tr>\n",
       "      <th>1995</th>\n",
       "      <td>-77.716126</td>\n",
       "      <td>1</td>\n",
       "      <td>-0.799352</td>\n",
       "    </tr>\n",
       "    <tr>\n",
       "      <th>1996</th>\n",
       "      <td>-24.671064</td>\n",
       "      <td>0</td>\n",
       "      <td>-0.251831</td>\n",
       "    </tr>\n",
       "    <tr>\n",
       "      <th>1997</th>\n",
       "      <td>-20.274364</td>\n",
       "      <td>1</td>\n",
       "      <td>-0.240050</td>\n",
       "    </tr>\n",
       "    <tr>\n",
       "      <th>1998</th>\n",
       "      <td>-161.367903</td>\n",
       "      <td>1</td>\n",
       "      <td>-1.615899</td>\n",
       "    </tr>\n",
       "    <tr>\n",
       "      <th>1999</th>\n",
       "      <td>105.797372</td>\n",
       "      <td>0</td>\n",
       "      <td>1.049331</td>\n",
       "    </tr>\n",
       "  </tbody>\n",
       "</table>\n",
       "<p>2000 rows × 3 columns</p>\n",
       "</div>"
      ],
      "text/plain": [
       "               Y  T  Confounder\n",
       "0     -80.629721  0   -0.802834\n",
       "1     -88.321390  0   -0.885822\n",
       "2     117.872907  0    1.176000\n",
       "3     -29.007586  1   -0.304892\n",
       "4     -59.413026  1   -0.621633\n",
       "...          ... ..         ...\n",
       "1995  -77.716126  1   -0.799352\n",
       "1996  -24.671064  0   -0.251831\n",
       "1997  -20.274364  1   -0.240050\n",
       "1998 -161.367903  1   -1.615899\n",
       "1999  105.797372  0    1.049331\n",
       "\n",
       "[2000 rows x 3 columns]"
      ]
     },
     "execution_count": 240,
     "metadata": {},
     "output_type": "execute_result"
    }
   ],
   "source": [
    "data_2"
   ]
  },
  {
   "cell_type": "markdown",
   "id": "1ef54a42",
   "metadata": {},
   "source": [
    "## 2) DAG"
   ]
  },
  {
   "cell_type": "code",
   "execution_count": 241,
   "id": "25a4b91e",
   "metadata": {},
   "outputs": [
    {
     "data": {
      "image/svg+xml": [
       "<?xml version=\"1.0\" encoding=\"UTF-8\" standalone=\"no\"?>\n",
       "<!DOCTYPE svg PUBLIC \"-//W3C//DTD SVG 1.1//EN\"\n",
       " \"http://www.w3.org/Graphics/SVG/1.1/DTD/svg11.dtd\">\n",
       "<!-- Generated by graphviz version 2.50.0 (20211204.2007)\n",
       " -->\n",
       "<!-- Pages: 1 -->\n",
       "<svg width=\"115pt\" height=\"188pt\"\n",
       " viewBox=\"0.00 0.00 114.65 188.00\" xmlns=\"http://www.w3.org/2000/svg\" xmlns:xlink=\"http://www.w3.org/1999/xlink\">\n",
       "<g id=\"graph0\" class=\"graph\" transform=\"scale(1 1) rotate(0) translate(4 184)\">\n",
       "<polygon fill=\"white\" stroke=\"transparent\" points=\"-4,4 -4,-184 110.65,-184 110.65,4 -4,4\"/>\n",
       "<!-- T -->\n",
       "<g id=\"node1\" class=\"node\">\n",
       "<title>T</title>\n",
       "<ellipse fill=\"none\" stroke=\"black\" cx=\"27\" cy=\"-90\" rx=\"27\" ry=\"18\"/>\n",
       "<text text-anchor=\"middle\" x=\"27\" y=\"-86.3\" font-family=\"Times,serif\" font-size=\"14.00\">T</text>\n",
       "</g>\n",
       "<!-- Y -->\n",
       "<g id=\"node2\" class=\"node\">\n",
       "<title>Y</title>\n",
       "<ellipse fill=\"none\" stroke=\"black\" cx=\"54\" cy=\"-18\" rx=\"27\" ry=\"18\"/>\n",
       "<text text-anchor=\"middle\" x=\"54\" y=\"-14.3\" font-family=\"Times,serif\" font-size=\"14.00\">Y</text>\n",
       "</g>\n",
       "<!-- T&#45;&gt;Y -->\n",
       "<g id=\"edge1\" class=\"edge\">\n",
       "<title>T&#45;&gt;Y</title>\n",
       "<path fill=\"none\" stroke=\"green\" d=\"M33.4,-72.41C36.51,-64.34 40.33,-54.43 43.83,-45.35\"/>\n",
       "<polygon fill=\"green\" stroke=\"green\" points=\"47.13,-46.55 47.46,-35.96 40.6,-44.03 47.13,-46.55\"/>\n",
       "</g>\n",
       "<!-- Confounder -->\n",
       "<g id=\"node3\" class=\"node\">\n",
       "<title>Confounder</title>\n",
       "<ellipse fill=\"none\" stroke=\"black\" cx=\"54\" cy=\"-162\" rx=\"52.79\" ry=\"18\"/>\n",
       "<text text-anchor=\"middle\" x=\"54\" y=\"-158.3\" font-family=\"Times,serif\" font-size=\"14.00\">Confounder</text>\n",
       "</g>\n",
       "<!-- Confounder&#45;&gt;T -->\n",
       "<g id=\"edge3\" class=\"edge\">\n",
       "<title>Confounder&#45;&gt;T</title>\n",
       "<path fill=\"none\" stroke=\"black\" d=\"M47.46,-144.05C44.38,-136.06 40.63,-126.33 37.18,-117.4\"/>\n",
       "<polygon fill=\"black\" stroke=\"black\" points=\"40.34,-115.86 33.48,-107.79 33.81,-118.38 40.34,-115.86\"/>\n",
       "</g>\n",
       "<!-- Confounder&#45;&gt;Y -->\n",
       "<g id=\"edge2\" class=\"edge\">\n",
       "<title>Confounder&#45;&gt;Y</title>\n",
       "<path fill=\"none\" stroke=\"black\" d=\"M57.65,-143.91C59.68,-133.57 61.98,-120.09 63,-108 64.34,-92.06 64.34,-87.94 63,-72 62.28,-63.5 60.93,-54.31 59.49,-46.01\"/>\n",
       "<polygon fill=\"black\" stroke=\"black\" points=\"62.91,-45.29 57.65,-36.09 56.03,-46.56 62.91,-45.29\"/>\n",
       "</g>\n",
       "</g>\n",
       "</svg>\n"
      ],
      "text/plain": [
       "<graphviz.graphs.Digraph at 0x7f7cb641b9a0>"
      ]
     },
     "execution_count": 241,
     "metadata": {},
     "output_type": "execute_result"
    }
   ],
   "source": [
    "g = gr.Digraph()\n",
    "g.edge(\"T\", \"Y\", color = 'green')\n",
    "g.edge(\"Confounder\", \"Y\")\n",
    "g.edge(\"Confounder\", \"T\")\n",
    "g"
   ]
  },
  {
   "cell_type": "markdown",
   "id": "303cb4f1",
   "metadata": {},
   "source": [
    "## 3) Monte-Carlo experiment"
   ]
  },
  {
   "cell_type": "markdown",
   "id": "472012a8",
   "metadata": {},
   "source": [
    "### Parameters settings"
   ]
  },
  {
   "cell_type": "code",
   "execution_count": 242,
   "id": "0bb99dc0",
   "metadata": {},
   "outputs": [],
   "source": [
    "tau = 3  # true treatment effect\n",
    "p = 10  # number of covariates generated\n",
    "p0 = 0  # number of covariates used in DGP Y\n",
    "corr = .5  # correlation between covariates\n",
    "conf = True\n",
    "flagX = False "
   ]
  },
  {
   "cell_type": "markdown",
   "id": "ec01be9e",
   "metadata": {},
   "source": [
    "First running 2 simple OLS regression under 'a' & 'b' conditions "
   ]
  },
  {
   "cell_type": "code",
   "execution_count": 246,
   "id": "cca65cff",
   "metadata": {},
   "outputs": [
    {
     "name": "stdout",
     "output_type": "stream",
     "text": [
      "Reg under condition \"a\": x1 is the treatment(i.e. T) \n",
      " ==============================================================================\n",
      "                 coef    std err          t      P>|t|      [0.025      0.975]\n",
      "------------------------------------------------------------------------------\n",
      "x1           -22.0961     22.639     -0.976      0.331     -67.022      22.830\n",
      "const         30.8865     16.008      1.929      0.057      -0.881      62.654\n",
      "============================================================================== \n",
      "\n",
      "Reg under condition \"b\": x1 is the treatment(i.e. T) \n",
      " ==============================================================================\n",
      "                 coef    std err          t      P>|t|      [0.025      0.975]\n",
      "------------------------------------------------------------------------------\n",
      "x1             2.9736      0.194     15.299      0.000       2.588       3.359\n",
      "x2           100.0796      0.086   1160.172      0.000      99.908     100.251\n",
      "const          0.0255      0.139      0.183      0.855      -0.251       0.302\n",
      "==============================================================================\n"
     ]
    }
   ],
   "source": [
    "N = 100\n",
    "const = np.ones([N, 1])\n",
    "Yexp,T,C = fn_generate_data(tau,N,p,p0,corr,conf,flagX)\n",
    "\n",
    "model_a = sm.OLS(Yexp,np.concatenate([T,const],axis = 1))  # under 'a' condition: not control for the confounder\n",
    "reg_a = model_a.fit()\n",
    "\n",
    "model_b = sm.OLS(Yexp,np.concatenate([T,C,const],axis = 1)) # under 'b' condition: control for the confounder\n",
    "reg_b = model_b.fit()\n",
    "\n",
    "print('Reg under condition \"a\": x1 is the treatment(i.e. T)','\\n',reg_a.summary().tables[1],'\\n')\n",
    "print('Reg under condition \"b\": x1 is the treatment(i.e. T)','\\n',reg_b.summary().tables[1])"
   ]
  },
  {
   "cell_type": "markdown",
   "id": "bb238878",
   "metadata": {},
   "source": [
    "We can see that after controlling for the confounder, estimated treatment effect is closer to its true value and with much higher statistic significance"
   ]
  },
  {
   "cell_type": "markdown",
   "id": "16369b7b",
   "metadata": {},
   "source": [
    "### a. Not control for the confounder"
   ]
  },
  {
   "cell_type": "code",
   "execution_count": 247,
   "id": "ca727458",
   "metadata": {},
   "outputs": [
    {
     "name": "stderr",
     "output_type": "stream",
     "text": [
      "100%|██████████████████████████████████████| 2000/2000 [00:02<00:00, 878.13it/s]\n",
      "100%|██████████████████████████████████████| 2000/2000 [00:15<00:00, 131.76it/s]\n"
     ]
    }
   ],
   "source": [
    "# using the same parameters\n",
    "estDict = {}  \n",
    "R = 2000  \n",
    "\n",
    "for N in [100, 1000]:\n",
    "    tauhats = []\n",
    "    sehats = []\n",
    "    const = np.ones([N, 1])\n",
    "    for r in tqdm(range(R)):  \n",
    "        Yexp,T,C = fn_generate_data(tau,N,p,p0,corr,conf,flagX)\n",
    "        model = sm.OLS(Yexp,np.concatenate([T,const],axis = 1))  # not controlling for the confounder\n",
    "        reg = model.fit()\n",
    "        tauhat = reg.params[0]\n",
    "        se_tauhat = reg.HC1_se[0]\n",
    "        tauhats = tauhats + [tauhat]\n",
    "        sehats = sehats + [se_tauhat]\n",
    "    estDict[N] = {\n",
    "        'tauhat':np.array(tauhats).reshape([len(tauhats),1]),\n",
    "        'sehat':np.array(sehats).reshape([len(sehats),1])\n",
    "    }"
   ]
  },
  {
   "cell_type": "code",
   "execution_count": 248,
   "id": "5795d736",
   "metadata": {},
   "outputs": [
    {
     "name": "stdout",
     "output_type": "stream",
     "text": [
      "N=100: bias=-0.0545149900307342, RMSE=20.022527674919274, size=0.0485\n",
      "N=1000: bias=-0.1877485503117604, RMSE=6.4083750249780564, size=0.048\n"
     ]
    }
   ],
   "source": [
    "tau0 = tau*np.ones([R,1])\n",
    "for N, results in estDict.items():\n",
    "    (bias,rmse,size) = fn_bias_rmse_size(tau0,results['tauhat'],\n",
    "                                         results['sehat'])\n",
    "    print(f'N={N}: bias={bias}, RMSE={rmse}, size={size}')"
   ]
  },
  {
   "cell_type": "markdown",
   "id": "f9e29dcc",
   "metadata": {},
   "source": [
    "### b. Control for the confounder"
   ]
  },
  {
   "cell_type": "code",
   "execution_count": 249,
   "id": "24471877",
   "metadata": {},
   "outputs": [
    {
     "name": "stderr",
     "output_type": "stream",
     "text": [
      "100%|██████████████████████████████████████| 2000/2000 [00:02<00:00, 837.92it/s]\n",
      "100%|██████████████████████████████████████| 2000/2000 [00:15<00:00, 128.81it/s]\n"
     ]
    }
   ],
   "source": [
    "# using the same parameters\n",
    "estDict = {}  \n",
    "R = 2000  \n",
    "\n",
    "for N in [100, 1000]:\n",
    "    tauhats = []\n",
    "    sehats = []\n",
    "    const = np.ones([N, 1])\n",
    "    for r in tqdm(range(R)):  \n",
    "        Yexp,T,C = fn_generate_data(tau,N,p,p0,corr,conf,flagX)\n",
    "        model = sm.OLS(Yexp,np.concatenate([T,C,const],axis = 1))  # controlling for the confounder\n",
    "        reg = model.fit()\n",
    "        tauhat = reg.params[0]\n",
    "        se_tauhat = reg.HC1_se[0]\n",
    "        tauhats = tauhats + [tauhat]\n",
    "        sehats = sehats + [se_tauhat]\n",
    "    estDict[N] = {\n",
    "        'tauhat':np.array(tauhats).reshape([len(tauhats),1]),\n",
    "        'sehat':np.array(sehats).reshape([len(sehats),1])\n",
    "    }"
   ]
  },
  {
   "cell_type": "code",
   "execution_count": 250,
   "id": "636487c2",
   "metadata": {},
   "outputs": [
    {
     "name": "stdout",
     "output_type": "stream",
     "text": [
      "N=100: bias=0.004791627562498931, RMSE=0.20276885120618418, size=0.0515\n",
      "N=1000: bias=-0.00039081527267983686, RMSE=0.06354678808531504, size=0.0575\n"
     ]
    }
   ],
   "source": [
    "tau0 = tau*np.ones([R,1])\n",
    "for N, results in estDict.items():\n",
    "    (bias,rmse,size) = fn_bias_rmse_size(tau0,results['tauhat'],\n",
    "                                         results['sehat'])\n",
    "    print(f'N={N}: bias={bias}, RMSE={rmse}, size={size}')"
   ]
  },
  {
   "cell_type": "markdown",
   "id": "7491bf6b",
   "metadata": {},
   "source": [
    "**Compareing the one without controlling for the confounder (a.), the RMSE is much smaller when we condition on the confounder (b.)**"
   ]
  },
  {
   "cell_type": "markdown",
   "id": "d08a7a1c",
   "metadata": {},
   "source": [
    "## 4) Real-life situation example"
   ]
  },
  {
   "cell_type": "markdown",
   "id": "b554224f",
   "metadata": {},
   "source": [
    "Considering a situationg where we want to learn the treatment effect of **passing the college entry exam** on the college **GPA**, student's **ability** will affect the result of the entry exam and also affect the performance in college studying thus affect the GPA. Then ability will be a confounder in this situation and we need to control for it to get a precise estimator of the treatment effect"
   ]
  },
  {
   "cell_type": "code",
   "execution_count": 251,
   "id": "b86d6acb",
   "metadata": {},
   "outputs": [
    {
     "data": {
      "image/svg+xml": [
       "<?xml version=\"1.0\" encoding=\"UTF-8\" standalone=\"no\"?>\n",
       "<!DOCTYPE svg PUBLIC \"-//W3C//DTD SVG 1.1//EN\"\n",
       " \"http://www.w3.org/Graphics/SVG/1.1/DTD/svg11.dtd\">\n",
       "<!-- Generated by graphviz version 2.50.0 (20211204.2007)\n",
       " -->\n",
       "<!-- Pages: 1 -->\n",
       "<svg width=\"139pt\" height=\"188pt\"\n",
       " viewBox=\"0.00 0.00 138.69 188.00\" xmlns=\"http://www.w3.org/2000/svg\" xmlns:xlink=\"http://www.w3.org/1999/xlink\">\n",
       "<g id=\"graph0\" class=\"graph\" transform=\"scale(1 1) rotate(0) translate(4 184)\">\n",
       "<polygon fill=\"white\" stroke=\"transparent\" points=\"-4,4 -4,-184 134.69,-184 134.69,4 -4,4\"/>\n",
       "<!-- Entry Exam -->\n",
       "<g id=\"node1\" class=\"node\">\n",
       "<title>Entry Exam</title>\n",
       "<ellipse fill=\"none\" stroke=\"black\" cx=\"53.95\" cy=\"-90\" rx=\"53.89\" ry=\"18\"/>\n",
       "<text text-anchor=\"middle\" x=\"53.95\" y=\"-86.3\" font-family=\"Times,serif\" font-size=\"14.00\">Entry Exam</text>\n",
       "</g>\n",
       "<!-- GPA -->\n",
       "<g id=\"node2\" class=\"node\">\n",
       "<title>GPA</title>\n",
       "<ellipse fill=\"none\" stroke=\"black\" cx=\"94.95\" cy=\"-18\" rx=\"27.9\" ry=\"18\"/>\n",
       "<text text-anchor=\"middle\" x=\"94.95\" y=\"-14.3\" font-family=\"Times,serif\" font-size=\"14.00\">GPA</text>\n",
       "</g>\n",
       "<!-- Entry Exam&#45;&gt;GPA -->\n",
       "<g id=\"edge1\" class=\"edge\">\n",
       "<title>Entry Exam&#45;&gt;GPA</title>\n",
       "<path fill=\"none\" stroke=\"green\" d=\"M63.87,-72.05C68.78,-63.68 74.79,-53.4 80.22,-44.13\"/>\n",
       "<polygon fill=\"green\" stroke=\"green\" points=\"83.36,-45.7 85.39,-35.31 77.32,-42.17 83.36,-45.7\"/>\n",
       "</g>\n",
       "<!-- Ability -->\n",
       "<g id=\"node3\" class=\"node\">\n",
       "<title>Ability</title>\n",
       "<ellipse fill=\"none\" stroke=\"black\" cx=\"94.95\" cy=\"-162\" rx=\"36\" ry=\"18\"/>\n",
       "<text text-anchor=\"middle\" x=\"94.95\" y=\"-158.3\" font-family=\"Times,serif\" font-size=\"14.00\">Ability</text>\n",
       "</g>\n",
       "<!-- Ability&#45;&gt;Entry Exam -->\n",
       "<g id=\"edge3\" class=\"edge\">\n",
       "<title>Ability&#45;&gt;Entry Exam</title>\n",
       "<path fill=\"none\" stroke=\"black\" d=\"M85.23,-144.41C80.4,-136.16 74.45,-126.01 69.04,-116.78\"/>\n",
       "<polygon fill=\"black\" stroke=\"black\" points=\"71.95,-114.82 63.88,-107.96 65.91,-118.35 71.95,-114.82\"/>\n",
       "</g>\n",
       "<!-- Ability&#45;&gt;GPA -->\n",
       "<g id=\"edge2\" class=\"edge\">\n",
       "<title>Ability&#45;&gt;GPA</title>\n",
       "<path fill=\"none\" stroke=\"black\" d=\"M103.85,-144.35C108.78,-134.17 114.41,-120.7 116.95,-108 120.07,-92.31 120.07,-87.69 116.95,-72 115.08,-62.63 111.52,-52.84 107.8,-44.26\"/>\n",
       "<polygon fill=\"black\" stroke=\"black\" points=\"110.98,-42.8 103.62,-35.18 104.63,-45.73 110.98,-42.8\"/>\n",
       "</g>\n",
       "</g>\n",
       "</svg>\n"
      ],
      "text/plain": [
       "<graphviz.graphs.Digraph at 0x7f7cb641ee50>"
      ]
     },
     "execution_count": 251,
     "metadata": {},
     "output_type": "execute_result"
    }
   ],
   "source": [
    "g = gr.Digraph()\n",
    "g.edge(\"Entry Exam\", \"GPA\", color = 'green')\n",
    "g.edge(\"Ability\", \"GPA\")\n",
    "g.edge(\"Ability\", \"Entry Exam\")\n",
    "g"
   ]
  },
  {
   "cell_type": "markdown",
   "id": "c6efe8cf",
   "metadata": {},
   "source": [
    "# 3. Setting 3: Selection Bias"
   ]
  },
  {
   "cell_type": "markdown",
   "id": "aad88669",
   "metadata": {},
   "source": [
    "## 1) DGP\n",
    "\n",
    "##### Simulate a DGP with selection bias into the treatment (variable in between the path from the treatment to the outcome)\n",
    "\n",
    "$Y_i = \\tau*T_i+\\lambda*Xsb_i+\\beta*X1_i+e_i$\n",
    "\n",
    "### Redefining the DGP function under the selection bias setting"
   ]
  },
  {
   "cell_type": "code",
   "execution_count": 940,
   "id": "fe53cd15",
   "metadata": {},
   "outputs": [],
   "source": [
    "def fn_gen_data(tau,N,p,p0,corr,conf = True,flagX = False):\n",
    "\n",
    "    nvar = p+2 # 1 confounder and variable for randomizing treatment\n",
    "\n",
    "    if conf==False:\n",
    "        conf_mult = 0 \n",
    "    else:\n",
    "        conf_mult = 1 \n",
    "        \n",
    "    allX = fn_generate_multnorm(N,corr,nvar)\n",
    "    W0 = allX[:,0].reshape([N,1]) # variable for RDD assignment\n",
    "    C = allX[:,1].reshape([N,1]) # confounder\n",
    "    X = allX[:,2:] # covariates\n",
    "    \n",
    "    T = fn_randomize_treatment(N) # choose treated units\n",
    "    err = np.random.normal(0,1,[N,1])\n",
    "    beta0 = np.random.normal(5,5,[p,1])\n",
    "    \n",
    "    # set X_sb is affected by T\n",
    "    u = np.random.normal(0,1,[N,1])\n",
    "    tmp = random.sample(range(N), round(N*0.4))\n",
    "    Xsb = np.array([(1 if i in tmp and T[i]==1 else 0) for i in range(N)]).reshape([N,1])\n",
    "    Xsb = Xsb+36*T+u\n",
    "    \n",
    "    beta0[p0:p] = 0 # sparse model\n",
    "    Yab = tau*T+X@beta0+conf_mult*100*C+0.003*Xsb+err # assume the effect of Xsb on Y is 0.003\n",
    "    \n",
    "    if flagX==False and conf==True:\n",
    "        return (Yab,T,Xsb,C)\n",
    "    elif flagX==False and conf==False:\n",
    "        return (Yab,T,Xsb)\n",
    "    elif flagX==True and conf==True:\n",
    "        return (Yab,T,Xsb,C,X[:, :p0])\n",
    "    else:\n",
    "        return (Yab,T,Xsb,X[:,:p0])"
   ]
  },
  {
   "cell_type": "code",
   "execution_count": 941,
   "id": "d2d57ab5",
   "metadata": {},
   "outputs": [],
   "source": [
    "# parameters settings\n",
    "tau = -8  # true treatment effect\n",
    "N = 1000  # sample size\n",
    "p = 10  # number of covariates generated\n",
    "p0 = 1  # number of covariates used in DGP Y\n",
    "corr = .5  # correlation between covariates\n",
    "conf = False  # no confounder\n",
    "flagX = True"
   ]
  },
  {
   "cell_type": "code",
   "execution_count": 942,
   "id": "46ba4980",
   "metadata": {},
   "outputs": [],
   "source": [
    "# DGP\n",
    "data_3 = fn_gen_data(tau,N,p,p0,corr,conf,flagX)\n",
    "a = pd.DataFrame(data_3[0])\n",
    "b = pd.DataFrame(data_3[1])\n",
    "c = pd.DataFrame(data_3[2])\n",
    "d = pd.DataFrame(data_3[3])\n",
    "data_3 = pd.concat([a,b,c,d],axis=1)\n",
    "data_3.columns = ['Y','T','Xsb','X1']\n",
    "data_3.to_csv('data_3.csv')"
   ]
  },
  {
   "cell_type": "code",
   "execution_count": 943,
   "id": "b51bd937",
   "metadata": {
    "scrolled": true
   },
   "outputs": [
    {
     "data": {
      "text/html": [
       "<div>\n",
       "<style scoped>\n",
       "    .dataframe tbody tr th:only-of-type {\n",
       "        vertical-align: middle;\n",
       "    }\n",
       "\n",
       "    .dataframe tbody tr th {\n",
       "        vertical-align: top;\n",
       "    }\n",
       "\n",
       "    .dataframe thead th {\n",
       "        text-align: right;\n",
       "    }\n",
       "</style>\n",
       "<table border=\"1\" class=\"dataframe\">\n",
       "  <thead>\n",
       "    <tr style=\"text-align: right;\">\n",
       "      <th></th>\n",
       "      <th>Y</th>\n",
       "      <th>T</th>\n",
       "      <th>Xsb</th>\n",
       "      <th>X1</th>\n",
       "    </tr>\n",
       "  </thead>\n",
       "  <tbody>\n",
       "    <tr>\n",
       "      <th>0</th>\n",
       "      <td>-13.803679</td>\n",
       "      <td>0</td>\n",
       "      <td>0.717086</td>\n",
       "      <td>-1.031674</td>\n",
       "    </tr>\n",
       "    <tr>\n",
       "      <th>1</th>\n",
       "      <td>-9.832613</td>\n",
       "      <td>0</td>\n",
       "      <td>1.767629</td>\n",
       "      <td>-0.666043</td>\n",
       "    </tr>\n",
       "    <tr>\n",
       "      <th>2</th>\n",
       "      <td>2.525743</td>\n",
       "      <td>0</td>\n",
       "      <td>0.325855</td>\n",
       "      <td>0.220051</td>\n",
       "    </tr>\n",
       "    <tr>\n",
       "      <th>3</th>\n",
       "      <td>1.930534</td>\n",
       "      <td>0</td>\n",
       "      <td>-0.118023</td>\n",
       "      <td>0.145091</td>\n",
       "    </tr>\n",
       "    <tr>\n",
       "      <th>4</th>\n",
       "      <td>17.691731</td>\n",
       "      <td>0</td>\n",
       "      <td>-1.715395</td>\n",
       "      <td>1.566414</td>\n",
       "    </tr>\n",
       "    <tr>\n",
       "      <th>...</th>\n",
       "      <td>...</td>\n",
       "      <td>...</td>\n",
       "      <td>...</td>\n",
       "      <td>...</td>\n",
       "    </tr>\n",
       "    <tr>\n",
       "      <th>995</th>\n",
       "      <td>6.454628</td>\n",
       "      <td>0</td>\n",
       "      <td>-0.586750</td>\n",
       "      <td>0.552486</td>\n",
       "    </tr>\n",
       "    <tr>\n",
       "      <th>996</th>\n",
       "      <td>-8.913221</td>\n",
       "      <td>1</td>\n",
       "      <td>37.865118</td>\n",
       "      <td>-0.211619</td>\n",
       "    </tr>\n",
       "    <tr>\n",
       "      <th>997</th>\n",
       "      <td>13.510168</td>\n",
       "      <td>0</td>\n",
       "      <td>-0.609773</td>\n",
       "      <td>1.124498</td>\n",
       "    </tr>\n",
       "    <tr>\n",
       "      <th>998</th>\n",
       "      <td>-6.377328</td>\n",
       "      <td>1</td>\n",
       "      <td>34.665840</td>\n",
       "      <td>0.244306</td>\n",
       "    </tr>\n",
       "    <tr>\n",
       "      <th>999</th>\n",
       "      <td>9.066525</td>\n",
       "      <td>0</td>\n",
       "      <td>0.944526</td>\n",
       "      <td>0.732917</td>\n",
       "    </tr>\n",
       "  </tbody>\n",
       "</table>\n",
       "<p>1000 rows × 4 columns</p>\n",
       "</div>"
      ],
      "text/plain": [
       "             Y  T        Xsb        X1\n",
       "0   -13.803679  0   0.717086 -1.031674\n",
       "1    -9.832613  0   1.767629 -0.666043\n",
       "2     2.525743  0   0.325855  0.220051\n",
       "3     1.930534  0  -0.118023  0.145091\n",
       "4    17.691731  0  -1.715395  1.566414\n",
       "..         ... ..        ...       ...\n",
       "995   6.454628  0  -0.586750  0.552486\n",
       "996  -8.913221  1  37.865118 -0.211619\n",
       "997  13.510168  0  -0.609773  1.124498\n",
       "998  -6.377328  1  34.665840  0.244306\n",
       "999   9.066525  0   0.944526  0.732917\n",
       "\n",
       "[1000 rows x 4 columns]"
      ]
     },
     "execution_count": 943,
     "metadata": {},
     "output_type": "execute_result"
    }
   ],
   "source": [
    "data_3"
   ]
  },
  {
   "cell_type": "markdown",
   "id": "7de6f868",
   "metadata": {},
   "source": [
    "## 2) DAG"
   ]
  },
  {
   "cell_type": "code",
   "execution_count": 944,
   "id": "bcbaab33",
   "metadata": {},
   "outputs": [
    {
     "data": {
      "image/svg+xml": [
       "<?xml version=\"1.0\" encoding=\"UTF-8\" standalone=\"no\"?>\n",
       "<!DOCTYPE svg PUBLIC \"-//W3C//DTD SVG 1.1//EN\"\n",
       " \"http://www.w3.org/Graphics/SVG/1.1/DTD/svg11.dtd\">\n",
       "<!-- Generated by graphviz version 2.50.0 (20211204.2007)\n",
       " -->\n",
       "<!-- Pages: 1 -->\n",
       "<svg width=\"162pt\" height=\"188pt\"\n",
       " viewBox=\"0.00 0.00 162.00 188.00\" xmlns=\"http://www.w3.org/2000/svg\" xmlns:xlink=\"http://www.w3.org/1999/xlink\">\n",
       "<g id=\"graph0\" class=\"graph\" transform=\"scale(1 1) rotate(0) translate(4 184)\">\n",
       "<polygon fill=\"white\" stroke=\"transparent\" points=\"-4,4 -4,-184 158,-184 158,4 -4,4\"/>\n",
       "<!-- T -->\n",
       "<g id=\"node1\" class=\"node\">\n",
       "<title>T</title>\n",
       "<ellipse fill=\"none\" stroke=\"black\" cx=\"27\" cy=\"-162\" rx=\"27\" ry=\"18\"/>\n",
       "<text text-anchor=\"middle\" x=\"27\" y=\"-158.3\" font-family=\"Times,serif\" font-size=\"14.00\">T</text>\n",
       "</g>\n",
       "<!-- Y -->\n",
       "<g id=\"node2\" class=\"node\">\n",
       "<title>Y</title>\n",
       "<ellipse fill=\"none\" stroke=\"black\" cx=\"55\" cy=\"-18\" rx=\"27\" ry=\"18\"/>\n",
       "<text text-anchor=\"middle\" x=\"55\" y=\"-14.3\" font-family=\"Times,serif\" font-size=\"14.00\">Y</text>\n",
       "</g>\n",
       "<!-- T&#45;&gt;Y -->\n",
       "<g id=\"edge1\" class=\"edge\">\n",
       "<title>T&#45;&gt;Y</title>\n",
       "<path fill=\"none\" stroke=\"green\" d=\"M21.75,-144.2C16.91,-126 11.52,-96.32 19,-72 22.29,-61.31 28.54,-50.85 34.93,-42.08\"/>\n",
       "<polygon fill=\"green\" stroke=\"green\" points=\"37.88,-43.98 41.25,-33.93 32.35,-39.69 37.88,-43.98\"/>\n",
       "</g>\n",
       "<!-- Xsb -->\n",
       "<g id=\"node3\" class=\"node\">\n",
       "<title>Xsb</title>\n",
       "<ellipse fill=\"none\" stroke=\"black\" cx=\"55\" cy=\"-90\" rx=\"27\" ry=\"18\"/>\n",
       "<text text-anchor=\"middle\" x=\"55\" y=\"-86.3\" font-family=\"Times,serif\" font-size=\"14.00\">Xsb</text>\n",
       "</g>\n",
       "<!-- T&#45;&gt;Xsb -->\n",
       "<g id=\"edge2\" class=\"edge\">\n",
       "<title>T&#45;&gt;Xsb</title>\n",
       "<path fill=\"none\" stroke=\"black\" d=\"M33.64,-144.41C36.91,-136.22 40.94,-126.14 44.62,-116.95\"/>\n",
       "<polygon fill=\"black\" stroke=\"black\" points=\"47.95,-118.05 48.41,-107.47 41.45,-115.45 47.95,-118.05\"/>\n",
       "</g>\n",
       "<!-- Xsb&#45;&gt;Y -->\n",
       "<g id=\"edge4\" class=\"edge\">\n",
       "<title>Xsb&#45;&gt;Y</title>\n",
       "<path fill=\"none\" stroke=\"black\" d=\"M55,-71.7C55,-63.98 55,-54.71 55,-46.11\"/>\n",
       "<polygon fill=\"black\" stroke=\"black\" points=\"58.5,-46.1 55,-36.1 51.5,-46.1 58.5,-46.1\"/>\n",
       "</g>\n",
       "<!-- X1 -->\n",
       "<g id=\"node4\" class=\"node\">\n",
       "<title>X1</title>\n",
       "<ellipse fill=\"none\" stroke=\"black\" cx=\"127\" cy=\"-90\" rx=\"27\" ry=\"18\"/>\n",
       "<text text-anchor=\"middle\" x=\"127\" y=\"-86.3\" font-family=\"Times,serif\" font-size=\"14.00\">X1</text>\n",
       "</g>\n",
       "<!-- X1&#45;&gt;Y -->\n",
       "<g id=\"edge3\" class=\"edge\">\n",
       "<title>X1&#45;&gt;Y</title>\n",
       "<path fill=\"none\" stroke=\"black\" d=\"M112.43,-74.83C102.25,-64.94 88.48,-51.55 76.97,-40.36\"/>\n",
       "<polygon fill=\"black\" stroke=\"black\" points=\"79.41,-37.85 69.8,-33.38 74.53,-42.87 79.41,-37.85\"/>\n",
       "</g>\n",
       "</g>\n",
       "</svg>\n"
      ],
      "text/plain": [
       "<graphviz.graphs.Digraph at 0x7f7c9a5f5100>"
      ]
     },
     "execution_count": 944,
     "metadata": {},
     "output_type": "execute_result"
    }
   ],
   "source": [
    "g = gr.Digraph()\n",
    "g.edge(\"T\", \"Y\", color = 'green')\n",
    "g.edge(\"T\", \"Xsb\")\n",
    "g.edge(\"X1\", \"Y\")\n",
    "g.edge(\"Xsb\", \"Y\")\n",
    "g"
   ]
  },
  {
   "cell_type": "markdown",
   "id": "38fc0970",
   "metadata": {},
   "source": [
    "## 3) Monte-Carlo experiment"
   ]
  },
  {
   "cell_type": "markdown",
   "id": "0549d89d",
   "metadata": {},
   "source": [
    "### Parameters settings"
   ]
  },
  {
   "cell_type": "code",
   "execution_count": 945,
   "id": "d39a862a",
   "metadata": {},
   "outputs": [],
   "source": [
    "# parameters settings\n",
    "tau = -8  # true treatment effect\n",
    "p = 10  # number of covariates generated\n",
    "p0 = 1  # number of covariates used in DGP Y\n",
    "corr = .5  # correlation between covariates\n",
    "conf = False  # no confounder\n",
    "flagX = True"
   ]
  },
  {
   "cell_type": "markdown",
   "id": "baa55b97",
   "metadata": {},
   "source": [
    "First running 2 simple OLS regression under 'a' & 'b' conditions "
   ]
  },
  {
   "cell_type": "code",
   "execution_count": 956,
   "id": "ea2974f7",
   "metadata": {},
   "outputs": [
    {
     "name": "stdout",
     "output_type": "stream",
     "text": [
      "Reg under condition \"a\": x1 is the treatment(i.e. T) \n",
      " ==============================================================================\n",
      "                 coef    std err          t      P>|t|      [0.025      0.975]\n",
      "------------------------------------------------------------------------------\n",
      "x1           -11.9289      3.425     -3.483      0.001     -18.728      -5.130\n",
      "x2             0.1109      0.094      1.177      0.242      -0.076       0.298\n",
      "x3             2.2716      0.076     29.962      0.000       2.121       2.422\n",
      "const          0.0255      0.140      0.181      0.856      -0.253       0.304\n",
      "============================================================================== \n",
      "\n",
      "Reg under condition \"b\": x1 is the treatment(i.e. T) \n",
      " ==============================================================================\n",
      "                 coef    std err          t      P>|t|      [0.025      0.975]\n",
      "------------------------------------------------------------------------------\n",
      "x1            -7.9053      0.199    -39.648      0.000      -8.301      -7.510\n",
      "x2             2.2853      0.075     30.440      0.000       2.136       2.434\n",
      "const          0.0221      0.141      0.157      0.876      -0.257       0.301\n",
      "==============================================================================\n"
     ]
    }
   ],
   "source": [
    "N = 100\n",
    "const = np.ones([N, 1])\n",
    "Yexp,T,Xsb,X = fn_gen_data(tau,N,p,p0,corr,conf,flagX)\n",
    "\n",
    "model_a = sm.OLS(Yexp,np.concatenate([T,Xsb,X,const],axis = 1))  # under 'a' condition: control for the X_sb\n",
    "reg_a = model_a.fit()\n",
    "\n",
    "model_b = sm.OLS(Yexp,np.concatenate([T,X,const],axis = 1)) # under 'b' condition: not control for the X_sb\n",
    "reg_b = model_b.fit()\n",
    "\n",
    "print('Reg under condition \"a\": x1 is the treatment(i.e. T)','\\n',reg_a.summary().tables[1],'\\n')\n",
    "print('Reg under condition \"b\": x1 is the treatment(i.e. T)','\\n',reg_b.summary().tables[1])"
   ]
  },
  {
   "cell_type": "markdown",
   "id": "952f7d76",
   "metadata": {},
   "source": [
    "We can see that if controlling for the $X_{sb}$, estimated treatment effect is noisy, and if we remove $X_{sb}$, the estimated treatment effect is closer to its true value and with higher statistic significance"
   ]
  },
  {
   "cell_type": "markdown",
   "id": "d414628f",
   "metadata": {},
   "source": [
    "##### a. Control for the variable in between the path from cause to effect"
   ]
  },
  {
   "cell_type": "code",
   "execution_count": 957,
   "id": "8ee07ff8",
   "metadata": {},
   "outputs": [
    {
     "name": "stderr",
     "output_type": "stream",
     "text": [
      "100%|██████████████████████████████████████| 2000/2000 [00:02<00:00, 785.08it/s]\n",
      "100%|███████████████████████████████████████| 2000/2000 [00:25<00:00, 77.12it/s]\n"
     ]
    }
   ],
   "source": [
    "# using the same parameters\n",
    "estDict = {}  \n",
    "R = 2000  \n",
    "\n",
    "for N in [100, 1000]:\n",
    "    tauhats = []\n",
    "    sehats = []\n",
    "    const = np.ones([N, 1])\n",
    "    for r in tqdm(range(R)):  \n",
    "        Yexp,T,Xsb,X = fn_gen_data(tau,N,p,p0,corr,conf,flagX)\n",
    "        model = sm.OLS(Yexp,np.concatenate([T,Xsb,X,const],axis = 1))  \n",
    "        # controlling for the variable in between the path from cause to effect\n",
    "        reg = model.fit()\n",
    "        tauhat = reg.params[0]\n",
    "        se_tauhat = reg.HC1_se[0]\n",
    "        tauhats = tauhats + [tauhat]\n",
    "        sehats = sehats + [se_tauhat]\n",
    "    estDict[N] = {\n",
    "        'tauhat':np.array(tauhats).reshape([len(tauhats),1]),\n",
    "        'sehat':np.array(sehats).reshape([len(sehats),1])\n",
    "    }"
   ]
  },
  {
   "cell_type": "code",
   "execution_count": 958,
   "id": "22ff89de",
   "metadata": {},
   "outputs": [
    {
     "name": "stdout",
     "output_type": "stream",
     "text": [
      "N=100: bias=0.05973781569390208, RMSE=3.5244676351154087, size=0.061\n",
      "N=1000: bias=0.029018453251028593, RMSE=1.1225021148888013, size=0.062\n"
     ]
    }
   ],
   "source": [
    "tau0 = tau*np.ones([R,1])\n",
    "for N, results in estDict.items():\n",
    "    (bias,rmse,size) = fn_bias_rmse_size(tau0,results['tauhat'],\n",
    "                                         results['sehat'])\n",
    "    print(f'N={N}: bias={bias}, RMSE={rmse}, size={size}')"
   ]
  },
  {
   "cell_type": "markdown",
   "id": "a684833b",
   "metadata": {},
   "source": [
    "##### b. Not control for the variable in between the path from cause to effect"
   ]
  },
  {
   "cell_type": "code",
   "execution_count": 959,
   "id": "6602225f",
   "metadata": {},
   "outputs": [
    {
     "name": "stderr",
     "output_type": "stream",
     "text": [
      "100%|██████████████████████████████████████| 2000/2000 [00:02<00:00, 776.36it/s]\n",
      "100%|███████████████████████████████████████| 2000/2000 [00:25<00:00, 77.73it/s]\n"
     ]
    }
   ],
   "source": [
    "# using the same parameters\n",
    "estDict = {}  \n",
    "R = 2000  \n",
    "\n",
    "for N in [100, 1000]:\n",
    "    tauhats = []\n",
    "    sehats = []\n",
    "    const = np.ones([N, 1])\n",
    "    for r in tqdm(range(R)):  \n",
    "        Yexp,T,Xsb,X = fn_gen_data(tau,N,p,p0,corr,conf,flagX)\n",
    "        model = sm.OLS(Yexp,np.concatenate([T,X,const],axis = 1))  \n",
    "        # not controlling for the variable in between the path from cause to effect\n",
    "        reg = model.fit()\n",
    "        tauhat = reg.params[0]\n",
    "        se_tauhat = reg.HC1_se[0]\n",
    "        tauhats = tauhats + [tauhat]\n",
    "        sehats = sehats + [se_tauhat]\n",
    "    estDict[N] = {\n",
    "        'tauhat':np.array(tauhats).reshape([len(tauhats),1]),\n",
    "        'sehat':np.array(sehats).reshape([len(sehats),1])\n",
    "    }"
   ]
  },
  {
   "cell_type": "code",
   "execution_count": 967,
   "id": "846d31a7",
   "metadata": {},
   "outputs": [
    {
     "name": "stdout",
     "output_type": "stream",
     "text": [
      "N=100: bias=0.10675446322033415, RMSE=0.224529551596588, size=0.0815\n",
      "N=1000: bias=0.10844078912990622, RMSE=0.12529391276442256, size=0.406\n"
     ]
    }
   ],
   "source": [
    "tau0 = tau*np.ones([R,1])\n",
    "for N, results in estDict.items():\n",
    "    (bias,rmse,size) = fn_bias_rmse_size(tau0,results['tauhat'],\n",
    "                                         results['sehat'])\n",
    "    print(f'N={N}: bias={bias}, RMSE={rmse}, size={size}')"
   ]
  },
  {
   "cell_type": "markdown",
   "id": "58465f23",
   "metadata": {},
   "source": [
    "**Compareing the one that controlling for the variable in between the path from cause to effect (a.), the RMSE is smaller when we not control the variable in between the path from cause to effect(b.)**"
   ]
  },
  {
   "cell_type": "markdown",
   "id": "f6189349",
   "metadata": {},
   "source": [
    "## 4) Real-life situation example"
   ]
  },
  {
   "cell_type": "markdown",
   "id": "984d5de4",
   "metadata": {},
   "source": [
    "When we studying the effect of getting **master's degree** on **wage**, there is a potential variable like being a **banker**, which is affected by the master's degree but won't affect master's degree, that may explain the outcome wage, and there is also a covariate like **GDP** will also affect the wage. Then if we add banker in the regression, we will face the selection bias problem."
   ]
  },
  {
   "cell_type": "code",
   "execution_count": 984,
   "id": "35419eef",
   "metadata": {},
   "outputs": [
    {
     "data": {
      "image/svg+xml": [
       "<?xml version=\"1.0\" encoding=\"UTF-8\" standalone=\"no\"?>\n",
       "<!DOCTYPE svg PUBLIC \"-//W3C//DTD SVG 1.1//EN\"\n",
       " \"http://www.w3.org/Graphics/SVG/1.1/DTD/svg11.dtd\">\n",
       "<!-- Generated by graphviz version 2.50.0 (20211204.2007)\n",
       " -->\n",
       "<!-- Pages: 1 -->\n",
       "<svg width=\"187pt\" height=\"188pt\"\n",
       " viewBox=\"0.00 0.00 187.34 188.00\" xmlns=\"http://www.w3.org/2000/svg\" xmlns:xlink=\"http://www.w3.org/1999/xlink\">\n",
       "<g id=\"graph0\" class=\"graph\" transform=\"scale(1 1) rotate(0) translate(4 184)\">\n",
       "<polygon fill=\"white\" stroke=\"transparent\" points=\"-4,4 -4,-184 183.34,-184 183.34,4 -4,4\"/>\n",
       "<!-- Master -->\n",
       "<g id=\"node1\" class=\"node\">\n",
       "<title>Master</title>\n",
       "<ellipse fill=\"none\" stroke=\"black\" cx=\"35.75\" cy=\"-162\" rx=\"36\" ry=\"18\"/>\n",
       "<text text-anchor=\"middle\" x=\"35.75\" y=\"-158.3\" font-family=\"Times,serif\" font-size=\"14.00\">Master</text>\n",
       "</g>\n",
       "<!-- Wage -->\n",
       "<g id=\"node2\" class=\"node\">\n",
       "<title>Wage</title>\n",
       "<ellipse fill=\"none\" stroke=\"black\" cx=\"67.75\" cy=\"-18\" rx=\"30.59\" ry=\"18\"/>\n",
       "<text text-anchor=\"middle\" x=\"67.75\" y=\"-14.3\" font-family=\"Times,serif\" font-size=\"14.00\">Wage</text>\n",
       "</g>\n",
       "<!-- Master&#45;&gt;Wage -->\n",
       "<g id=\"edge1\" class=\"edge\">\n",
       "<title>Master&#45;&gt;Wage</title>\n",
       "<path fill=\"none\" stroke=\"green\" d=\"M28.5,-144.09C21.74,-125.8 13.92,-96.04 22.75,-72 27.06,-60.26 35.26,-49.34 43.48,-40.49\"/>\n",
       "<polygon fill=\"green\" stroke=\"green\" points=\"46.07,-42.86 50.63,-33.29 41.1,-37.93 46.07,-42.86\"/>\n",
       "</g>\n",
       "<!-- Banker -->\n",
       "<g id=\"node3\" class=\"node\">\n",
       "<title>Banker</title>\n",
       "<ellipse fill=\"none\" stroke=\"black\" cx=\"67.75\" cy=\"-90\" rx=\"36.29\" ry=\"18\"/>\n",
       "<text text-anchor=\"middle\" x=\"67.75\" y=\"-86.3\" font-family=\"Times,serif\" font-size=\"14.00\">Banker</text>\n",
       "</g>\n",
       "<!-- Master&#45;&gt;Banker -->\n",
       "<g id=\"edge2\" class=\"edge\">\n",
       "<title>Master&#45;&gt;Banker</title>\n",
       "<path fill=\"none\" stroke=\"black\" d=\"M43.49,-144.05C47.19,-135.97 51.69,-126.12 55.81,-117.11\"/>\n",
       "<polygon fill=\"black\" stroke=\"black\" points=\"59.1,-118.34 60.07,-107.79 52.73,-115.43 59.1,-118.34\"/>\n",
       "</g>\n",
       "<!-- Banker&#45;&gt;Wage -->\n",
       "<g id=\"edge4\" class=\"edge\">\n",
       "<title>Banker&#45;&gt;Wage</title>\n",
       "<path fill=\"none\" stroke=\"black\" d=\"M67.75,-71.7C67.75,-63.98 67.75,-54.71 67.75,-46.11\"/>\n",
       "<polygon fill=\"black\" stroke=\"black\" points=\"71.25,-46.1 67.75,-36.1 64.25,-46.1 71.25,-46.1\"/>\n",
       "</g>\n",
       "<!-- GDP -->\n",
       "<g id=\"node4\" class=\"node\">\n",
       "<title>GDP</title>\n",
       "<ellipse fill=\"none\" stroke=\"black\" cx=\"150.75\" cy=\"-90\" rx=\"28.7\" ry=\"18\"/>\n",
       "<text text-anchor=\"middle\" x=\"150.75\" y=\"-86.3\" font-family=\"Times,serif\" font-size=\"14.00\">GDP</text>\n",
       "</g>\n",
       "<!-- GDP&#45;&gt;Wage -->\n",
       "<g id=\"edge3\" class=\"edge\">\n",
       "<title>GDP&#45;&gt;Wage</title>\n",
       "<path fill=\"none\" stroke=\"black\" d=\"M134.35,-75.17C122.46,-65.14 106.16,-51.39 92.66,-40.01\"/>\n",
       "<polygon fill=\"black\" stroke=\"black\" points=\"94.58,-37.05 84.68,-33.28 90.07,-42.4 94.58,-37.05\"/>\n",
       "</g>\n",
       "</g>\n",
       "</svg>\n"
      ],
      "text/plain": [
       "<graphviz.graphs.Digraph at 0x7f7c98f01670>"
      ]
     },
     "execution_count": 984,
     "metadata": {},
     "output_type": "execute_result"
    }
   ],
   "source": [
    "g = gr.Digraph()\n",
    "g.edge(\"Master\", \"Wage\", color = 'green')\n",
    "g.edge(\"Master\", \"Banker\")\n",
    "g.edge(\"GDP\", \"Wage\")\n",
    "g.edge(\"Banker\", \"Wage\")\n",
    "g"
   ]
  }
 ],
 "metadata": {
  "kernelspec": {
   "display_name": "Python 3 (ipykernel)",
   "language": "python",
   "name": "python3"
  },
  "language_info": {
   "codemirror_mode": {
    "name": "ipython",
    "version": 3
   },
   "file_extension": ".py",
   "mimetype": "text/x-python",
   "name": "python",
   "nbconvert_exporter": "python",
   "pygments_lexer": "ipython3",
   "version": "3.9.7"
  }
 },
 "nbformat": 4,
 "nbformat_minor": 5
}
